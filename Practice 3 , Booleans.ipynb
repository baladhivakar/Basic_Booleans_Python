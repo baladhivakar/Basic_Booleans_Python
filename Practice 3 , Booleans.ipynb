{
 "cells": [
  {
   "cell_type": "markdown",
   "metadata": {},
   "source": [
    "Booleans\n",
    "\n",
    "Booleans are the data types which denotes either True or False"
   ]
  },
  {
   "cell_type": "code",
   "execution_count": 1,
   "metadata": {},
   "outputs": [
    {
     "name": "stdout",
     "output_type": "stream",
     "text": [
      "Lets go for a ride\n"
     ]
    }
   ],
   "source": [
    "got_the_car_keys = True\n",
    "if got_the_car_keys:\n",
    "    print(\"Lets go for a ride\")\n",
    "else:\n",
    "    print(\"Please get me the car key\")\n",
    "        "
   ]
  },
  {
   "cell_type": "code",
   "execution_count": 2,
   "metadata": {},
   "outputs": [
    {
     "name": "stdout",
     "output_type": "stream",
     "text": [
      "Please get me the car key\n"
     ]
    }
   ],
   "source": [
    "got_the_car_keys = False\n",
    "if got_the_car_keys:\n",
    "    print(\"Lets go for a ride\")\n",
    "else:\n",
    "    print(\"Please get me the car key\")"
   ]
  },
  {
   "cell_type": "raw",
   "metadata": {},
   "source": [
    "Comparison Operator\n",
    "\n",
    "There are different operators using in the python to get results\n",
    "\n",
    ">\tgreater than\n",
    "<\tsmaller than\n",
    ">=\tgreater than or equal to\n",
    "<=\tsmaller than or equal to\n",
    "==\tis equal\n",
    "!=\tis not equal"
   ]
  },
  {
   "cell_type": "code",
   "execution_count": 3,
   "metadata": {},
   "outputs": [
    {
     "name": "stdout",
     "output_type": "stream",
     "text": [
      "False\n"
     ]
    }
   ],
   "source": [
    "data= 7\n",
    "print(data > 10)"
   ]
  },
  {
   "cell_type": "code",
   "execution_count": 4,
   "metadata": {},
   "outputs": [
    {
     "name": "stdout",
     "output_type": "stream",
     "text": [
      "True\n"
     ]
    }
   ],
   "source": [
    "data= 7\n",
    "print(data > 6)"
   ]
  },
  {
   "cell_type": "code",
   "execution_count": 5,
   "metadata": {},
   "outputs": [
    {
     "name": "stdout",
     "output_type": "stream",
     "text": [
      "True\n"
     ]
    }
   ],
   "source": [
    "data = 7\n",
    "print(data == 7)"
   ]
  },
  {
   "cell_type": "code",
   "execution_count": 6,
   "metadata": {
    "scrolled": true
   },
   "outputs": [
    {
     "name": "stdout",
     "output_type": "stream",
     "text": [
      "True\n"
     ]
    }
   ],
   "source": [
    "data = 7\n",
    "print(data <= 7)"
   ]
  },
  {
   "cell_type": "markdown",
   "metadata": {},
   "source": [
    "Logical operator\n",
    "\n",
    "1. \"And\" - True of both operators are True\n",
    "2. \"Or\" - True if either or the operstor is True\n",
    "3. \"Not\" - True if the operator if operator is False"
   ]
  },
  {
   "cell_type": "code",
   "execution_count": 7,
   "metadata": {},
   "outputs": [
    {
     "name": "stdout",
     "output_type": "stream",
     "text": [
      "True\n"
     ]
    }
   ],
   "source": [
    "age = 28\n",
    "gpa = 6.1\n",
    "result = age >= 26 and gpa > 5.8\n",
    "print(result)"
   ]
  },
  {
   "cell_type": "code",
   "execution_count": 8,
   "metadata": {},
   "outputs": [
    {
     "name": "stdout",
     "output_type": "stream",
     "text": [
      "1 True\n"
     ]
    }
   ],
   "source": [
    "language = \"Python\"\n",
    "print(\"1\", language == \"Python\")"
   ]
  },
  {
   "cell_type": "code",
   "execution_count": 9,
   "metadata": {
    "scrolled": true
   },
   "outputs": [
    {
     "name": "stdout",
     "output_type": "stream",
     "text": [
      "2 True\n",
      "3 True\n",
      "4 True\n"
     ]
    }
   ],
   "source": [
    "Age = 28\n",
    "print(\"2\", Age >= 23)\n",
    "print(\"3\", Age >= 20)\n",
    "print(\"4\", Age >= 27 and language == \"Python\")"
   ]
  },
  {
   "cell_type": "code",
   "execution_count": 10,
   "metadata": {},
   "outputs": [
    {
     "name": "stdout",
     "output_type": "stream",
     "text": [
      "2 False\n",
      "3 True\n",
      "4 False\n"
     ]
    }
   ],
   "source": [
    "Age = 28\n",
    "print(\"2\", Age >= 29)\n",
    "print(\"3\", Age >= 20)\n",
    "print(\"4\", Age >= 27 and language == \"python\")"
   ]
  }
 ],
 "metadata": {
  "kernelspec": {
   "display_name": "Python 3",
   "language": "python",
   "name": "python3"
  },
  "language_info": {
   "codemirror_mode": {
    "name": "ipython",
    "version": 3
   },
   "file_extension": ".py",
   "mimetype": "text/x-python",
   "name": "python",
   "nbconvert_exporter": "python",
   "pygments_lexer": "ipython3",
   "version": "3.8.5"
  }
 },
 "nbformat": 4,
 "nbformat_minor": 4
}
